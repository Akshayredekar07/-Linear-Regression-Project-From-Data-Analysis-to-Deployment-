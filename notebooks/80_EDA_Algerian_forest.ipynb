{
 "cells": [
  {
   "cell_type": "markdown",
   "id": "5fe1c3f1-e07e-4fdd-8a30-acf6f21527d3",
   "metadata": {},
   "source": [
    "# Algerian Forest Fires Dataset"
   ]
  },
  {
   "cell_type": "markdown",
   "id": "da900b2d-565e-4965-934c-857e5f7e2dec",
   "metadata": {},
   "source": [
    "### Variable Information\n",
    "1. Date : (DD/MM/YYYY) Day, month ('june' to 'september'), year (2012)\n",
    "Weather data observations \n",
    "2. Temp : temperature noon (temperature max)  in Celsius degrees: 22 to 42\n",
    "3. RH : Relative Humidity in %: 21 to 90 \n",
    "4. Ws :Wind speed in km/h: 6 to 29 \n",
    "5. Rain: total day in mm: 0 to 16.8\n",
    "FWI Components  \n",
    "6. Fine Fuel Moisture Code (FFMC) index from the FWI system: 28.6 to 92.5 \n",
    "7. Duff Moisture Code (DMC) index from the FWI system: 1.1 to 65.9 \n",
    "8. Drought Code (DC) index from the FWI system:  7 to 220.4\n",
    "9. Initial Spread Index (ISI) index from the FWI system: 0 to 18.5 \n",
    "10. Buildup Index (BUI) index from the FWI system: 1.1 to 68\n",
    "11. Fire Weather Index (FWI) Index: 0 to 31.1\n",
    "12. Classes: two classes, namely   â€œFireâ€ and â€œnot Fireâ€"
   ]
  },
  {
   "cell_type": "code",
   "execution_count": null,
   "id": "8bfde7f9-8810-4b28-9675-fb89071a9651",
   "metadata": {},
   "outputs": [],
   "source": [
    "import pandas as pd\n",
    "import numpy as np\n",
    "import seaborn as sns\n",
    "import matplotlib.pyplot as plt\n",
    "%matplotlib inline\n",
    "import warnings\n",
    "warnings.filterwarnings('ignore')"
   ]
  },
  {
   "cell_type": "code",
   "execution_count": null,
   "id": "60475e74-afe3-48cc-927c-1aa88f2a71ca",
   "metadata": {},
   "outputs": [],
   "source": [
    "dataset=pd.read_csv('Algerian_forest_fires_dataset_UPDATE.csv', header=1)"
   ]
  },
  {
   "cell_type": "code",
   "execution_count": null,
   "id": "6ad4bcd3-556b-4932-a54b-046a54b2d3a8",
   "metadata": {},
   "outputs": [],
   "source": [
    "dataset.head()"
   ]
  },
  {
   "cell_type": "code",
   "execution_count": null,
   "id": "0d1107f6-8bb0-4961-bc74-b1abb9c46512",
   "metadata": {},
   "outputs": [],
   "source": [
    "dataset.info()"
   ]
  },
  {
   "cell_type": "markdown",
   "id": "b1b7b601-d0b3-4cf0-9a01-c170217c2294",
   "metadata": {},
   "source": [
    "## Data Cleaning"
   ]
  },
  {
   "cell_type": "code",
   "execution_count": null,
   "id": "b7d5769e-2136-4344-95de-69d6ca4e743c",
   "metadata": {},
   "outputs": [],
   "source": [
    "dataset[dataset.isnull().any(axis=1)]"
   ]
  },
  {
   "cell_type": "markdown",
   "id": "71b36937-1b9c-4aaf-bb64-f8257cbb2aa8",
   "metadata": {},
   "source": [
    "Dataset is converted into two sets based on Regions from 122th index we can make new column bases on the Region \n",
    "1. \"Bejaia Region dataset\"\n",
    "2. \"Sidi-Bel Abbes Region dataset\""
   ]
  },
  {
   "cell_type": "markdown",
   "id": "06258b13-8162-4e8a-b2fe-32452d3705fd",
   "metadata": {},
   "source": [
    "Add new columns to region"
   ]
  },
  {
   "cell_type": "code",
   "execution_count": null,
   "id": "d0a2db3d-5f64-472b-8e66-004c1d27df72",
   "metadata": {},
   "outputs": [],
   "source": [
    "dataset.loc[:122, \"Region\"] = 0\n",
    "dataset.loc[122:, \"Region\"] = 1\n",
    "df=dataset"
   ]
  },
  {
   "cell_type": "code",
   "execution_count": null,
   "id": "6c732e27-7d36-41cb-9f42-13afa49bf5a2",
   "metadata": {},
   "outputs": [],
   "source": [
    "df.head()"
   ]
  },
  {
   "cell_type": "code",
   "execution_count": null,
   "id": "9382f81b-0d44-47fd-a217-b0e7a20e1bc8",
   "metadata": {},
   "outputs": [],
   "source": [
    "df.info()"
   ]
  },
  {
   "cell_type": "code",
   "execution_count": null,
   "id": "91eef0d0-29e8-400c-b9ee-3772b57be0af",
   "metadata": {},
   "outputs": [],
   "source": [
    "df[['Region']]=df[['Region']].astype(int)"
   ]
  },
  {
   "cell_type": "code",
   "execution_count": null,
   "id": "5ea1df62-c5f3-41c2-b038-905ffb00f489",
   "metadata": {},
   "outputs": [],
   "source": [
    "df.head()"
   ]
  },
  {
   "cell_type": "code",
   "execution_count": null,
   "id": "1854e35c-35ae-44e7-b8c9-873d7605a5e1",
   "metadata": {},
   "outputs": [],
   "source": [
    "df.tail()"
   ]
  },
  {
   "cell_type": "code",
   "execution_count": null,
   "id": "1d4df217-8ec7-46af-ab53-a2ec094de9c9",
   "metadata": {},
   "outputs": [],
   "source": [
    "df.isnull().sum()"
   ]
  },
  {
   "cell_type": "code",
   "execution_count": null,
   "id": "20ce7ef6-2711-457f-a901-533ea812e9f4",
   "metadata": {},
   "outputs": [],
   "source": [
    "df = df.dropna().reset_index(drop=True)"
   ]
  },
  {
   "cell_type": "code",
   "execution_count": null,
   "id": "761ef3cc-381c-42cd-8294-6d2a547d4700",
   "metadata": {},
   "outputs": [],
   "source": [
    "df.isnull().sum()"
   ]
  },
  {
   "cell_type": "code",
   "execution_count": null,
   "id": "e868db0b-0253-4ee6-bf24-14d7351bb41c",
   "metadata": {},
   "outputs": [],
   "source": [
    "df.iloc[[122]]"
   ]
  },
  {
   "cell_type": "code",
   "execution_count": null,
   "id": "c7a22c46-c07e-4a9a-a3d5-3eb011090a51",
   "metadata": {},
   "outputs": [],
   "source": [
    "df=df.drop(122).reset_index(drop=True)"
   ]
  },
  {
   "cell_type": "code",
   "execution_count": null,
   "id": "26c21bc8-7f30-4c20-9a0e-3083c04b2792",
   "metadata": {},
   "outputs": [],
   "source": [
    "df.iloc[[122]]"
   ]
  },
  {
   "cell_type": "code",
   "execution_count": null,
   "id": "6f61a7d7-9760-4e36-89aa-b739922212ee",
   "metadata": {},
   "outputs": [],
   "source": [
    "df.columns"
   ]
  },
  {
   "cell_type": "code",
   "execution_count": null,
   "id": "59e4519a-1430-406e-8019-f702d14736e0",
   "metadata": {},
   "outputs": [],
   "source": [
    "# fix spaces in columns names\n",
    "df.columns = df.columns.str.strip()\n",
    "df.columns"
   ]
  },
  {
   "cell_type": "code",
   "execution_count": null,
   "id": "3e8025df-ef5b-4217-a5aa-9e509fc0b25c",
   "metadata": {},
   "outputs": [],
   "source": [
    "df.info()"
   ]
  },
  {
   "cell_type": "markdown",
   "id": "37ea29e1-efab-46ca-b0f3-2d94c4e10ec1",
   "metadata": {},
   "source": [
    "Change the required columns as integer datatype"
   ]
  },
  {
   "cell_type": "code",
   "execution_count": null,
   "id": "8d204855-7d1b-4f0f-b3ca-9974fe221fa2",
   "metadata": {},
   "outputs": [],
   "source": [
    "df[['day', 'month', 'year', 'Temperature', 'RH', 'Ws']] = df[['day', 'month', 'year', 'Temperature', 'RH', 'Ws']].astype(int)"
   ]
  },
  {
   "cell_type": "code",
   "execution_count": null,
   "id": "40b65861-5a40-45cd-add1-2b77e36874a8",
   "metadata": {},
   "outputs": [],
   "source": [
    "df.info()"
   ]
  },
  {
   "cell_type": "code",
   "execution_count": null,
   "id": "07ac0920-65b9-4dc0-8417-6777dfea8cc4",
   "metadata": {},
   "outputs": [],
   "source": [
    "df.head()"
   ]
  },
  {
   "cell_type": "markdown",
   "id": "a3930a18-8c05-4645-8e45-69d011a6e6f8",
   "metadata": {},
   "source": [
    "Changing the other columns to float datatype"
   ]
  },
  {
   "cell_type": "code",
   "execution_count": null,
   "id": "54744194-e023-4f3a-960d-5e44fd3cdd9e",
   "metadata": {},
   "outputs": [],
   "source": [
    "objects = [featuers for featuers in df.columns if df[featuers].dtypes == 'O']"
   ]
  },
  {
   "cell_type": "code",
   "execution_count": null,
   "id": "4fdc4ecc-bb94-46ad-9aca-21f548ca67fd",
   "metadata": {},
   "outputs": [],
   "source": [
    "objects"
   ]
  },
  {
   "cell_type": "code",
   "execution_count": null,
   "id": "571bd53b-f982-46e6-9e85-be7a7757e7d4",
   "metadata": {},
   "outputs": [],
   "source": [
    "for i in objects:\n",
    "    if i != 'Classes':\n",
    "        df[i] = df[i].astype(float)"
   ]
  },
  {
   "cell_type": "code",
   "execution_count": null,
   "id": "c21b8168-5552-4604-a795-169a1cde62e3",
   "metadata": {},
   "outputs": [],
   "source": [
    "df.info()"
   ]
  },
  {
   "cell_type": "code",
   "execution_count": null,
   "id": "838c0992-808b-4abe-84b1-9a26d29d37c0",
   "metadata": {},
   "outputs": [],
   "source": [
    "df.describe()"
   ]
  },
  {
   "cell_type": "code",
   "execution_count": null,
   "id": "35ccf71b-cfa9-4589-b6a5-1e86532f0f51",
   "metadata": {},
   "outputs": [],
   "source": [
    "df.head()"
   ]
  },
  {
   "cell_type": "code",
   "execution_count": null,
   "id": "24d452d8-4414-4ea7-af01-fc69a6691c73",
   "metadata": {},
   "outputs": [],
   "source": [
    "df.to_csv('Algerian_forest_fires_cleaned_dataset.csv', index=False)"
   ]
  },
  {
   "cell_type": "markdown",
   "id": "9cda36de-6021-4f50-8c81-e1fb17963ec0",
   "metadata": {},
   "source": [
    "## Exploratory data analysis"
   ]
  },
  {
   "cell_type": "code",
   "execution_count": null,
   "id": "ab26550b-5355-434c-bb69-b16bfb5ee8b9",
   "metadata": {},
   "outputs": [],
   "source": [
    "df_copy = df.drop(['day', 'month', 'year'], axis=1)"
   ]
  },
  {
   "cell_type": "code",
   "execution_count": null,
   "id": "6364f916-8031-448e-97d0-febd0eca1bf8",
   "metadata": {},
   "outputs": [],
   "source": [
    "df_copy.head()"
   ]
  },
  {
   "cell_type": "code",
   "execution_count": null,
   "id": "b864bb41-d7c7-4760-bc3f-09121c04cd4e",
   "metadata": {},
   "outputs": [],
   "source": [
    "df_copy['Classes'].value_counts()"
   ]
  },
  {
   "cell_type": "code",
   "execution_count": null,
   "id": "af510d8a-0956-43f6-b76a-cb3ed07ffb22",
   "metadata": {},
   "outputs": [],
   "source": [
    "df_copy['Classes']=np.where(df_copy['Classes'].str.contains('not fire'), 0,1)"
   ]
  },
  {
   "cell_type": "code",
   "execution_count": null,
   "id": "d892bd5b-d567-4f95-92d0-a28369b68c74",
   "metadata": {},
   "outputs": [],
   "source": [
    "df_copy['Classes'].value_counts()"
   ]
  },
  {
   "cell_type": "code",
   "execution_count": null,
   "id": "9da97820-4363-4b03-97ec-da2f354249c8",
   "metadata": {},
   "outputs": [],
   "source": [
    "percentage = df_copy['Classes'].value_counts(normalize=True)*100\n",
    "percentage"
   ]
  },
  {
   "cell_type": "code",
   "execution_count": null,
   "id": "c8d265f1-1656-4773-b2a1-dbcc4551ce91",
   "metadata": {},
   "outputs": [],
   "source": [
    "classlabel = ['fire', 'not fire']\n",
    "plt.figure(figsize=(12,7))\n",
    "plt.pie(percentage, labels=classlabel, autopct='%1.1f%%')\n",
    "plt.title(\"Pie Chart for classes\")\n",
    "plt.show()"
   ]
  },
  {
   "cell_type": "code",
   "execution_count": null,
   "id": "f2985707-0784-4fc7-8017-1303d3dccf39",
   "metadata": {},
   "outputs": [],
   "source": [
    "df_copy.corr"
   ]
  },
  {
   "cell_type": "code",
   "execution_count": null,
   "id": "b8022def-fbc9-43d2-a302-c753df1c7c47",
   "metadata": {},
   "outputs": [],
   "source": [
    "sns.heatmap(df_copy.corr(), annot=True)"
   ]
  },
  {
   "cell_type": "code",
   "execution_count": null,
   "id": "74515e97-56c0-4a24-b7eb-3dfc09e097f7",
   "metadata": {},
   "outputs": [],
   "source": [
    "sns.boxplot(df_copy['FWI'], color='green')"
   ]
  },
  {
   "cell_type": "code",
   "execution_count": null,
   "id": "28738291-d794-4179-ab28-29e34fc0d973",
   "metadata": {},
   "outputs": [],
   "source": [
    "## Monthly Fire Analysis\n",
    "dftemp=df.loc[df['Region']==1]\n",
    "plt.subplots(figsize=(13,6))\n",
    "sns.set_style('whitegrid')\n",
    "sns.countplot(x='month',hue='Classes', data=df) \n",
    "plt.ylabel('Number of Fires',weight='bold')\n",
    "plt.xlabel('Months',weight='bold')\n",
    "plt.title(\"Fire Analysis of Sidi Bel Regions\", weight=\"bold\")"
   ]
  },
  {
   "cell_type": "code",
   "execution_count": null,
   "id": "57998962-c9b4-4312-ab65-146b7c2c8ee5",
   "metadata": {},
   "outputs": [],
   "source": []
  }
 ],
 "metadata": {
  "kernelspec": {
   "display_name": "Python 3.8.10 64-bit",
   "language": "python",
   "name": "python3"
  },
  "language_info": {
   "codemirror_mode": {
    "name": "ipython",
    "version": 3
   },
   "file_extension": ".py",
   "mimetype": "text/x-python",
   "name": "python",
   "nbconvert_exporter": "python",
   "pygments_lexer": "ipython3",
   "version": "3.8.10"
  },
  "vscode": {
   "interpreter": {
    "hash": "e7370f93d1d0cde622a1f8e1c04877d8463912d04d973331ad4851f04de6915a"
   }
  }
 },
 "nbformat": 4,
 "nbformat_minor": 5
}
